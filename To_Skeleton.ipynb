{
 "cells": [
  {
   "cell_type": "code",
   "execution_count": 238,
   "id": "80daea96",
   "metadata": {},
   "outputs": [],
   "source": [
    "import pandas as pd \n",
    "import numpy as np\n",
    "import os\n",
    "import warnings\n",
    "import mmcv\n",
    "\n",
    "warnings.filterwarnings('ignore')"
   ]
  },
  {
   "cell_type": "code",
   "execution_count": 239,
   "id": "9464287f",
   "metadata": {},
   "outputs": [],
   "source": [
    "def format(df):\n",
    "    features = ['pelvis', 'chestLower', 'neckLower', 'head', 'lShldrBend', 'lForearmBend', 'lHand', 'rShldrBend', 'rForearmBend', 'rHand', 'lThighBend', 'lShin','lFoot', 'rThighBend', 'rShin', 'rFoot', 'chestUpper', 'lThumb3_end', 'rThumb3_end']\n",
    "\n",
    "    for feature in features:\n",
    "        df[feature] = df[f'{feature}_T_glob'].str.cat(df[f'{feature}_T_glob.1'], sep=',').str.cat(df[f'{feature}_T_glob.2'], sep=',')\n",
    "        \n",
    "    df['rWrist'] = df['rHand_T_glob'].str.cat(df['rHand_T_glob.1'], sep=',').str.cat(df['rHand_T_glob.2'], sep=',')\n",
    "    df['lWrist'] = df['lHand_T_glob'].str.cat(df['lHand_T_glob.1'], sep=',').str.cat(df['lHand_T_glob.2'], sep=',')\n",
    "    df['lAnkle'] = df['lFoot_T_glob'].str.cat(df['lFoot_T_glob.1'], sep=',').str.cat(df['lFoot_T_glob.2'], sep=',')\n",
    "    df['rAnkle'] = df['rFoot_T_glob'].str.cat(df['rFoot_T_glob.1'], sep=',').str.cat(df['rFoot_T_glob.2'], sep=',')\n",
    "    df['tipLeftHand'] = df['lThumb3_end_T_glob'].str.cat(df['lThumb3_end_T_glob.1'], sep=',').str.cat(df['lThumb3_end_T_glob.2'], sep=',')\n",
    "    df['tipRightHand'] = df['rThumb3_end_T_glob'].str.cat(df['rThumb3_end_T_glob.1'], sep=',').str.cat(df['rThumb3_end_T_glob.2'], sep=',')\n",
    "\n",
    "    features = ['pelvis', 'chestLower', 'neckLower', 'head', 'lShldrBend', 'lForearmBend', 'lWrist', 'lHand', 'rShldrBend', 'rForearmBend', 'rWrist', 'rHand', 'lThighBend', 'lShin','lAnkle','lFoot', 'rThighBend', 'rShin','rAnkle', 'rFoot', 'chestUpper', 'tipLeftHand', 'lThumb3_end', 'tipRightHand', 'rThumb3_end']\n",
    "\n",
    "    df = df[['Frame', 'Time(s)','pelvis', 'chestLower', 'neckLower', 'head', 'lShldrBend', 'lForearmBend', 'lWrist', 'lHand', 'rShldrBend', 'rForearmBend', 'rWrist', 'rHand', 'lThighBend', 'lShin','lAnkle','lFoot', 'rThighBend', 'rShin','rAnkle', 'rFoot', 'chestUpper', 'tipLeftHand', 'lThumb3_end', 'tipRightHand', 'rThumb3_end']]\n",
    "    \n",
    "    for feature in features:\n",
    "        values = df[feature].values\n",
    "        for i in range(1, values.shape[0]):\n",
    "            values[i] = values[i].split(',')\n",
    "        df[feature] = values\n",
    "\n",
    "\n",
    "    df.drop([0], axis=0, inplace=True)\n",
    "    return df"
   ]
  },
  {
   "cell_type": "code",
   "execution_count": 240,
   "id": "5acc5b29",
   "metadata": {},
   "outputs": [],
   "source": [
    "def to_categorical(annotation_file):\n",
    "    data = pd.read_csv(annotation_file, sep=\"\\t\")\n",
    "    cols = list(data.columns)\n",
    "    data.head()\n",
    "    action_class, label = cols[0], cols[1]\n",
    "\n",
    "    def label_change(x):\n",
    "        if x == 'Mono':\n",
    "            return 1\n",
    "        elif x == 'Bi':\n",
    "            return 1\n",
    "        else:\n",
    "            return 2\n",
    "\n",
    "    data[label] = data[label].apply(label_change(label))\n",
    "    data.to_csv(annotation_file, index=False)"
   ]
  },
  {
   "cell_type": "code",
   "execution_count": 241,
   "id": "ebf6fe16",
   "metadata": {},
   "outputs": [],
   "source": [
    "def to_txt(csv_file, column_number):\n",
    "    # Read the CSV file using pandas\n",
    "    df = pd.read_csv(csv_file)\n",
    "\n",
    "    # Check if the given column_number is valid\n",
    "    if column_number < 0 or column_number >= df.shape[1]:\n",
    "        raise ValueError(\"Invalid column number\")\n",
    "\n",
    "    # Extract the required column using the column_number\n",
    "    column_data = df.iloc[:, column_number]\n",
    "\n",
    "    # Create a txt file with the same name as the CSV file\n",
    "    txt_file = csv_file.replace(\".csv\", f\"_column{column_number}.txt\")\n",
    "\n",
    "    # Write the column data to the txt file\n",
    "    with open(txt_file, 'w') as file:\n",
    "        for value in column_data:\n",
    "            file.write(str(value) + \"\\n\")\n",
    "\n",
    "    print(f\"Column {column_number} from {csv_file} has been saved in {txt_file}\")"
   ]
  },
  {
   "cell_type": "code",
   "execution_count": 242,
   "id": "856dd6d7",
   "metadata": {},
   "outputs": [],
   "source": [
    "def to_skeleton(df, name_df, to_path):\n",
    "    joints_df = df.iloc[:, 2:]\n",
    "    data = joints_df.to_numpy()\n",
    "\n",
    "    num_joints = data.shape[1]\n",
    "    num_frames = data.shape[0]\n",
    "    body_info = [1, 0, 1, 1, 1, 1, 0, 0, 0, 0, 2]\n",
    "\n",
    "    with open(to_path+ '{}'.format(name_df) + '.skeleton', 'w') as f:\n",
    "\n",
    "        f.write(\"{}\\n\".format(num_frames))\n",
    "        \n",
    "        for frame in data:\n",
    "            f.write(\"1\\n\")\n",
    "            f.write(\"{} {} {} {} {} {} {} {} {} {} {}\\n\".format(body_info[0], body_info[1], body_info[2], body_info[3], body_info[4], body_info[5], body_info[6], body_info[7], body_info[8], body_info[9], body_info[10]))\n",
    "            f.write(\"{}\\n\".format(num_joints))\n",
    "            for joint in range(num_joints):\n",
    "\n",
    "                x = float(frame[joint][0])\n",
    "                y = float(frame[joint][1])\n",
    "                z = float(frame[joint][2])\n",
    "\n",
    "                f.write(\"{} {} {}\\n\".format(x, y, z))\n",
    "\n",
    "    f.close()\n"
   ]
  },
  {
   "cell_type": "code",
   "execution_count": 243,
   "id": "59423bca",
   "metadata": {},
   "outputs": [
    {
     "name": "stdout",
     "output_type": "stream",
     "text": [
      "Converting 169 files to skeleton format...\n",
      "\n",
      "Done !\n"
     ]
    }
   ],
   "source": [
    "annotation = pd.read_csv('Dataset/Annotation_gloses.csv', sep='\\t') # On lit le fichier d'annotation\n",
    "\n",
    "from_path = \"./Dataset/Cassiopée_Allbones/\"\n",
    "to_path = \"./Dataset/Skeletons_3/\"\n",
    "\n",
    "len_path = len([name for name in os.listdir(from_path)])\n",
    "\n",
    "cols = list(annotation.columns) # On récupère une liste des noms des colonnes\n",
    "action_class, label = cols[0], cols[1] # On récupère les noms des colonnes\n",
    "\n",
    "print(f'Converting {len_path} files to skeleton format...')\n",
    "\n",
    "for file_name in os.listdir(from_path): # On parcourt les fichiers du dataset brut de MocapLab\n",
    "\n",
    "    num = annotation[annotation[action_class] == file_name[:-4]].index.values # On récupère l'index de la ligne du fichiers d'annotation correspondant au fichier du dataset brut\n",
    "    if len(num) > 0:\n",
    "        num = num[0]\n",
    "        name_df = \"S001C001P001A\" + \"{:03d}\".format(num) # On crée le nom du fichier de sortie en fonction de l'index de la ligne\n",
    "        df = pd.read_csv(from_path + file_name, sep=\";\", index_col=False)\n",
    "        df = format(df)\n",
    "        to_skeleton(df, name_df, to_path) # On convertit le fichier du dataset brut en fichier skeleton\n",
    "\n",
    "print('Done !')"
   ]
  }
 ],
 "metadata": {
  "kernelspec": {
   "display_name": "Python 3",
   "language": "python",
   "name": "python3"
  },
  "language_info": {
   "codemirror_mode": {
    "name": "ipython",
    "version": 3
   },
   "file_extension": ".py",
   "mimetype": "text/x-python",
   "name": "python",
   "nbconvert_exporter": "python",
   "pygments_lexer": "ipython3",
   "version": "3.9.13"
  }
 },
 "nbformat": 4,
 "nbformat_minor": 5
}
